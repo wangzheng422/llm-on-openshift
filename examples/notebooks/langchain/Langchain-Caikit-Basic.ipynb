{
 "cells": [
  {
   "cell_type": "markdown",
   "id": "766aaa81-96e6-42dc-b29d-8216d2a7feec",
   "metadata": {},
   "source": [
    "## Basic example on how to query Caikit-TGIS with Llama2 using Langchain"
   ]
  },
  {
   "cell_type": "markdown",
   "id": "e65a9bb1-b06e-4569-b1cf-c7cdcd65b5d9",
   "metadata": {},
   "source": [
    "### Set the Inference server url (replace with your own address) and the model-id"
   ]
  },
  {
   "cell_type": "code",
   "execution_count": 1,
   "id": "6b28afc8-7a57-4c81-a0de-3fdb6270830d",
   "metadata": {
    "tags": []
   },
   "outputs": [],
   "source": [
    "inference_server_url = \"your_server_address:port\"\n",
    "model_id = \"Llama-2-7b-chat-hf\"\n",
    "\n",
    "inference_server_url = \"caikit-tgis-example-isvc-predictor.kserve-demo.svc.cluster.local:80\"\n",
    "model_id = 'flan-t5-small-caikit'\n",
    "\n",
    "# If your endpoint is using a self-signed certificate, export the certificate chain as a .pem file and provide its path\n",
    "# Example: certificate_chain = \"certificate.pem\"\n",
    "# Adjust llm instantiation to use this parameter or not\n",
    "certificate_chain_file = \"certificate.pem\""
   ]
  },
  {
   "cell_type": "code",
   "execution_count": 2,
   "id": "4904ce1e-12f3-4f95-8b34-8392fa0fd586",
   "metadata": {
    "tags": []
   },
   "outputs": [],
   "source": [
    "# Optional, requirements if they are not already present\n",
    "# !pip -q install grpcio grpcio-reflection"
   ]
  },
  {
   "cell_type": "code",
   "execution_count": 3,
   "id": "60bb3f0f-40b5-49a6-b493-5e361db0113e",
   "metadata": {
    "tags": []
   },
   "outputs": [],
   "source": [
    "# Imports\n",
    "import caikit_tgis_langchain\n",
    "from langchain.callbacks.streaming_stdout import StreamingStdOutCallbackHandler"
   ]
  },
  {
   "cell_type": "markdown",
   "id": "472b2f3f-ac23-4531-984b-6e8357233992",
   "metadata": {
    "tags": []
   },
   "source": [
    "### Basic call"
   ]
  },
  {
   "cell_type": "code",
   "execution_count": 4,
   "id": "01baa2b8-529d-455d-ad39-ef4a96dbaf97",
   "metadata": {
    "tags": []
   },
   "outputs": [],
   "source": [
    "# Basic llm object definition, no text streaming\n",
    "llm = caikit_tgis_langchain.CaikitLLM(\n",
    "    inference_server_url=inference_server_url,\n",
    "    model_id=model_id,\n",
    "    certificate_chain=certificate_chain_file,\n",
    "    streaming=False\n",
    ")"
   ]
  },
  {
   "cell_type": "code",
   "execution_count": 5,
   "id": "82b6f271-f5ae-4ad1-b090-d0850ed0bee3",
   "metadata": {
    "tags": []
   },
   "outputs": [
    {
     "data": {
      "text/plain": [
       "\"\\n\\nLondon is a bustling metropolis with a rich history, diverse culture, and iconic landmarks. From Buckingham Palace to the Tower of London, the city is filled with historic buildings and world-class museums. The city's vibrant neighborhoods, such as Camden and Shoreditch, offer a unique blend of fashion, art, and food. London's cosmopolitan atmosphere and easy transportation make it a popular destination for tourists and locals alike.\""
      ]
     },
     "execution_count": 5,
     "metadata": {},
     "output_type": "execute_result"
    }
   ],
   "source": [
    "llm(\"Can you describe London in 100 words?\", min_new_tokens=100, max_new_tokens=200, preserve_input_text=False)"
   ]
  },
  {
   "cell_type": "markdown",
   "id": "d211bd1f-3e55-41ce-b3bc-0ee5db689c66",
   "metadata": {},
   "source": [
    "### Basic call with streaming answer"
   ]
  },
  {
   "cell_type": "code",
   "execution_count": 6,
   "id": "fdd8bc4c-b353-4a51-a8b7-6cb348e19623",
   "metadata": {
    "tags": []
   },
   "outputs": [],
   "source": [
    "llm_streaming = caikit_tgis_langchain.CaikitLLM(\n",
    "    inference_server_url=inference_server_url,\n",
    "    model_id=model_id,\n",
    "    certificate_chain=certificate_chain_file,\n",
    "    streaming=True\n",
    ")"
   ]
  },
  {
   "cell_type": "code",
   "execution_count": 7,
   "id": "fb1a1c57-a645-4bb8-80c2-dec2f3800afa",
   "metadata": {
    "tags": []
   },
   "outputs": [
    {
     "name": "stdout",
     "output_type": "stream",
     "text": [
      "\n",
      "\n",
      "Ottawa is the capital city of Canada, located on the Ottawa River. It is home to many cultural institutions, including the National Gallery of Canada, the Canadian Museum of History, and the Canadian War Museum. The city is also known for its picturesque parks and gardens, including Rideau Canal, a UNESCO World Heritage Site. Ottawa has a vibrant food scene and a diverse population, with a strong sense of community and a rich history."
     ]
    }
   ],
   "source": [
    "llm_streaming(\"Can you describe Ottawa in 100 words?\", min_new_tokens=100, max_new_tokens=200, preserve_input_text=False, callbacks=[StreamingStdOutCallbackHandler()]);"
   ]
  }
 ],
 "metadata": {
  "kernelspec": {
   "display_name": "Python 3.11",
   "language": "python",
   "name": "python3"
  },
  "language_info": {
   "codemirror_mode": {
    "name": "ipython",
    "version": 3
   },
   "file_extension": ".py",
   "mimetype": "text/x-python",
   "name": "python",
   "nbconvert_exporter": "python",
   "pygments_lexer": "ipython3",
   "version": "3.11.4"
  }
 },
 "nbformat": 4,
 "nbformat_minor": 5
}
