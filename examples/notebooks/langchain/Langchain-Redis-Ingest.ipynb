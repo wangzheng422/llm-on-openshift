{
 "cells": [
  {
   "cell_type": "markdown",
   "id": "3420575b-4d00-458b-aa0e-7030008ccd53",
   "metadata": {},
   "source": [
    "## Creating an index and populating it with documents using Redis\n",
    "\n",
    "Simple example on how to ingest PDF documents, then web pages content into a Redis VectorStore.\n",
    "\n",
    "Requirements:\n",
    "- A Redis cluster\n",
    "- A Redis database with at least 2GB of memory (to match with the initial index cap)"
   ]
  },
  {
   "cell_type": "markdown",
   "id": "1a82063d-6153-4812-8977-042241736b53",
   "metadata": {},
   "source": [
    "### Base parameters, the Redis info"
   ]
  },
  {
   "cell_type": "code",
   "execution_count": 1,
   "id": "417ed4a4-9418-4f48-bebd-ef0ea11ae434",
   "metadata": {
    "tags": []
   },
   "outputs": [],
   "source": [
    "redis_url = \"redis://server:port\"\n",
    "index_name = \"docs\""
   ]
  },
  {
   "cell_type": "markdown",
   "id": "9b499a49-128c-4be5-903b-76c40771c7bc",
   "metadata": {
    "tags": []
   },
   "source": [
    "#### Imports"
   ]
  },
  {
   "cell_type": "code",
   "execution_count": 2,
   "id": "600cd763-6ecc-4c77-89c0-47108c31c44e",
   "metadata": {
    "tags": []
   },
   "outputs": [],
   "source": [
    "from langchain.document_loaders import PyPDFDirectoryLoader\n",
    "from langchain.text_splitter import RecursiveCharacterTextSplitter\n",
    "from langchain.embeddings.huggingface import HuggingFaceEmbeddings\n",
    "from langchain.vectorstores.redis import Redis"
   ]
  },
  {
   "cell_type": "markdown",
   "id": "f68f6785-480e-4519-be4f-8e1738dba4ca",
   "metadata": {},
   "source": [
    "## Initial index creation and document ingestion"
   ]
  },
  {
   "cell_type": "markdown",
   "id": "f8cff5f7-c509-48db-90b5-e15815b8b530",
   "metadata": {},
   "source": [
    "#### Document loading from a folder containing PDFs"
   ]
  },
  {
   "cell_type": "code",
   "execution_count": 3,
   "id": "dde8a4a3-d602-49c6-b4a5-31a76b25a58b",
   "metadata": {
    "tags": []
   },
   "outputs": [],
   "source": [
    "pdf_folder_path = 'rhods-doc'\n",
    "\n",
    "loader = PyPDFDirectoryLoader(pdf_folder_path)\n",
    "docs = loader.load()"
   ]
  },
  {
   "cell_type": "markdown",
   "id": "4198fe0a-38bf-4cd4-af7d-35b41c645edd",
   "metadata": {},
   "source": [
    "#### Split documents into chunks with some overlap"
   ]
  },
  {
   "cell_type": "code",
   "execution_count": 5,
   "id": "edba4a08-2194-4df1-9091-6f2b596757a1",
   "metadata": {
    "tags": []
   },
   "outputs": [],
   "source": [
    "text_splitter = RecursiveCharacterTextSplitter(chunk_size=1024,\n",
    "                                               chunk_overlap=40)\n",
    "all_splits = text_splitter.split_documents(docs)"
   ]
  },
  {
   "cell_type": "markdown",
   "id": "7ae7eae2-c670-4eb5-803b-b4d591fa83db",
   "metadata": {},
   "source": [
    "#### Create the index and ingest the documents"
   ]
  },
  {
   "cell_type": "code",
   "execution_count": 6,
   "id": "bbb6a3e3-5ccd-441e-b80d-427555d9e9f6",
   "metadata": {
    "tags": []
   },
   "outputs": [],
   "source": [
    "embeddings = HuggingFaceEmbeddings()\n",
    "rds = Redis.from_documents(all_splits,\n",
    "                           embeddings,\n",
    "                           redis_url=redis_url,\n",
    "                           index_name=index_name)"
   ]
  },
  {
   "cell_type": "markdown",
   "id": "4940a12c-7a13-4a81-94b2-415f1440e9c3",
   "metadata": {},
   "source": [
    "#### Write the schema to a yaml file to be able to open the index later on"
   ]
  },
  {
   "cell_type": "code",
   "execution_count": 7,
   "id": "f445a19a-debb-4d66-b859-37c53f6d3095",
   "metadata": {
    "tags": []
   },
   "outputs": [],
   "source": [
    "rds.write_schema(\"redis_schema.yaml\")"
   ]
  },
  {
   "cell_type": "markdown",
   "id": "8d9d4869-be21-4cf4-a72c-2e58bcc1ab43",
   "metadata": {},
   "source": [
    "## Ingesting new documents"
   ]
  },
  {
   "cell_type": "markdown",
   "id": "d3052c81-7652-4ef0-acaf-883608a9ff85",
   "metadata": {},
   "source": [
    "#### Example with Web pages"
   ]
  },
  {
   "cell_type": "code",
   "execution_count": 8,
   "id": "998bcc21-d03c-4889-83a6-09c62cab25eb",
   "metadata": {
    "tags": []
   },
   "outputs": [],
   "source": [
    "from langchain.document_loaders import WebBaseLoader"
   ]
  },
  {
   "cell_type": "code",
   "execution_count": 10,
   "id": "354cfe78-9d90-404a-8648-98fb2e79ff6d",
   "metadata": {
    "tags": []
   },
   "outputs": [],
   "source": [
    "loader = WebBaseLoader([\"https://ai-on-openshift.io/getting-started/openshift/\",\n",
    "                        \"https://ai-on-openshift.io/getting-started/opendatahub/\",\n",
    "                        \"https://ai-on-openshift.io/getting-started/openshift-data-science/\",\n",
    "                        \"https://ai-on-openshift.io/odh-rhods/configuration/\",\n",
    "                        \"https://ai-on-openshift.io/odh-rhods/custom-notebooks/\",\n",
    "                        \"https://ai-on-openshift.io/odh-rhods/nvidia-gpus/\",\n",
    "                        \"https://ai-on-openshift.io/odh-rhods/custom-runtime-triton/\",\n",
    "                        \"https://ai-on-openshift.io/odh-rhods/openshift-group-management/\",\n",
    "                        \"https://ai-on-openshift.io/tools-and-applications/minio/minio/\"\n",
    "                       ])"
   ]
  },
  {
   "cell_type": "code",
   "execution_count": 11,
   "id": "8ab4eaf5-d177-4410-ae9d-a012f7ffafad",
   "metadata": {
    "tags": []
   },
   "outputs": [],
   "source": [
    "data = loader.load()"
   ]
  },
  {
   "cell_type": "code",
   "execution_count": 13,
   "id": "92838fe4-5b33-4835-b7e3-643ddef952c2",
   "metadata": {
    "tags": []
   },
   "outputs": [],
   "source": [
    "text_splitter = RecursiveCharacterTextSplitter(chunk_size=1024,\n",
    "                                               chunk_overlap=40)\n",
    "all_splits = text_splitter.split_documents(data)"
   ]
  },
  {
   "cell_type": "code",
   "execution_count": 14,
   "id": "ffd66d87-8314-4b2f-9c02-e856e1035e6b",
   "metadata": {
    "tags": []
   },
   "outputs": [],
   "source": [
    "embeddings = HuggingFaceEmbeddings()\n",
    "rds = Redis.from_existing_index(embeddings,\n",
    "                                redis_url=redis_url,\n",
    "                                index_name=index_name,\n",
    "                                schema=\"redis_schema.yaml\")"
   ]
  },
  {
   "cell_type": "code",
   "execution_count": 15,
   "id": "9d2355aa-5096-482a-ac39-4d285e63fb39",
   "metadata": {
    "tags": []
   },
   "outputs": [
    {
     "data": {
      "text/plain": [
       "['doc:docs:f2a7bece8c614c7f9d155c027b117d96',\n",
       " 'doc:docs:5baf6fa8a1d24d4b813b2009308c526d',\n",
       " 'doc:docs:285beb515cb24fea84ff286337c33cf5',\n",
       " 'doc:docs:5a35f267a08c4e6486856b4bb95dff34',\n",
       " 'doc:docs:0b27cc06b4394950962d955ecdaef04b',\n",
       " 'doc:docs:1b81d697143f4c3aa7f0f703a92a9101',\n",
       " 'doc:docs:cb4802ae6fe04d35a6c82cc5b26555da',\n",
       " 'doc:docs:c7245897e2e34c59823eb92e60301710',\n",
       " 'doc:docs:3a5fe31bbb18489bb00d5f2e6c703561',\n",
       " 'doc:docs:ea102f2a011240609012562e8caecf35',\n",
       " 'doc:docs:8b65285434a94bd4837bb3e622b107c7',\n",
       " 'doc:docs:af698b432128443a99db3f0f49a1ac3f',\n",
       " 'doc:docs:2922d6a4f5074d6ab462facfadee7a2f',\n",
       " 'doc:docs:839ede47a7f04b9386078c3318e7d460',\n",
       " 'doc:docs:1f6a879c852948c7a591c7633e6ba226',\n",
       " 'doc:docs:99e4bd0c92ab4b359d41514555b08560',\n",
       " 'doc:docs:d2b1afb621ea47f391322b6ed11eb6e0',\n",
       " 'doc:docs:f0544ebeb1c2442dabff7cdbac055b9c',\n",
       " 'doc:docs:0b94519f9cf140ff95c3da08094ab0a4',\n",
       " 'doc:docs:c7b634e728b64cf5aa8fe1e0ecc80bc4',\n",
       " 'doc:docs:89e07bd82f484211a4c310cc73d3e1e3',\n",
       " 'doc:docs:029315e067fc4fc78474c66e47401b25',\n",
       " 'doc:docs:b43afac717f74eacbc155a66a469aae2',\n",
       " 'doc:docs:9cef218710494b9e8b51cc4ab6ae4d05',\n",
       " 'doc:docs:32a974f3f50b473d84b9ac29a0ff1aff',\n",
       " 'doc:docs:832a1e6ad1754de581f2c67e80a9d9c8',\n",
       " 'doc:docs:eb5bed4087e541b4901f5867d1c1530d',\n",
       " 'doc:docs:5bd18f80cc624671b870d7459b10e5ce',\n",
       " 'doc:docs:0c45119ab1324d2c92fb0e6acd584d71',\n",
       " 'doc:docs:93f34e73ef3547639c98a212055d22b4',\n",
       " 'doc:docs:95555ce36be1433da2a468778bdcff2e',\n",
       " 'doc:docs:19ccfb1a60004ca8aa14170f1d7f7dfe',\n",
       " 'doc:docs:c95740f1c2034d0191a3c3ee2c37a02e',\n",
       " 'doc:docs:c166c158eba24cb189bf5b8a526f8586',\n",
       " 'doc:docs:084a13cf93d84952bd180b9ee9cd985d',\n",
       " 'doc:docs:b0b9718e21fa4208a8a3daf602ca6c13',\n",
       " 'doc:docs:071b2bff690c444a95f1585f4a6da4a0',\n",
       " 'doc:docs:d03008f314664ad9b0186aa325297734',\n",
       " 'doc:docs:8f36df53c9ab4acab1e69a7429aba787',\n",
       " 'doc:docs:d4f94b0709bc458bbbf78e64c3c3aa25',\n",
       " 'doc:docs:462a7983564b4c73aca2bb107686c52b',\n",
       " 'doc:docs:5c7baca533a44785babdc7336fcf303c',\n",
       " 'doc:docs:c389f0bbfff140f2bda82e41c671a0b4',\n",
       " 'doc:docs:9e9ce37d85354f1790aa36fd264e273a',\n",
       " 'doc:docs:23b86d59144f4cd38612ae054cf92fd5',\n",
       " 'doc:docs:ca9cd80ee47e44f2827a8557eff872c4',\n",
       " 'doc:docs:f80c415fa8674319a644fb4a598add51',\n",
       " 'doc:docs:da5683e21fa94aefbedc859ecc13d48d',\n",
       " 'doc:docs:6c776a676f014a688d8c1c7a6d3d4af5',\n",
       " 'doc:docs:2a77c7d219604649be302facc3a763de',\n",
       " 'doc:docs:9366df50c0fb45ad842512589d4faae1',\n",
       " 'doc:docs:95e9e1dba1174c0cba2e38b1e22c8727',\n",
       " 'doc:docs:6c48bde70ee84844a90b545ea99db8d4',\n",
       " 'doc:docs:66e08ee085ec45d4b31ade9b841b24f7',\n",
       " 'doc:docs:cdd6214d26af41d3a64bf3330edbfb1e',\n",
       " 'doc:docs:45770568f4814dd286769bebfb712808',\n",
       " 'doc:docs:87c4028aa8464ccfaccde89eabd01f80',\n",
       " 'doc:docs:04ca8674aa4d44048a0dd864f8a804cc',\n",
       " 'doc:docs:4bf17d9d23bb4724917f6f225992fa5c',\n",
       " 'doc:docs:97c8b36072004bfba7a0790b3965845b',\n",
       " 'doc:docs:dd0446bc7f7448548cd92f00cc1571a2',\n",
       " 'doc:docs:07cc9711b7454c51a27f6e997b250b0c',\n",
       " 'doc:docs:67fe95efb01f48e2896eee8c84c10214',\n",
       " 'doc:docs:81d403e0eeec446b906571b3ea0e082e',\n",
       " 'doc:docs:934346ec879c468a8c114ec8a3679db3',\n",
       " 'doc:docs:abe4c0e8bcac444ab6c7f058eb560f85',\n",
       " 'doc:docs:188077548de74ffeabcd5f96fea9c9db',\n",
       " 'doc:docs:f31970e8341c4926b043378e923facb7',\n",
       " 'doc:docs:c12ddd5a1e664f80ab8e7a5aca0849e3',\n",
       " 'doc:docs:ddff18eba415412cb0f1b5a7f4b0b754',\n",
       " 'doc:docs:4349583bf7024b6f9e9598844669873b',\n",
       " 'doc:docs:66186a1e86604a14b9d75b5f8861c5ef',\n",
       " 'doc:docs:579f09554bf0465fb58d160e05a9cfd9',\n",
       " 'doc:docs:2e0b0b2baccd4f869b05742fe45d7c96',\n",
       " 'doc:docs:2edd0af3f0e546f9a7f6c6eb0dca4cbe',\n",
       " 'doc:docs:347ab8d9161945deb45ad5143991e433',\n",
       " 'doc:docs:5d22480d8347452eb4c37587fa4713c7',\n",
       " 'doc:docs:7153f20c495340eaa5bc912bc80eab27',\n",
       " 'doc:docs:a554637ba6d44431b4207176c75ed635',\n",
       " 'doc:docs:2e0a5e0189af46c3a1aa2524de93f2b1',\n",
       " 'doc:docs:cbaba3455e9f42e68b6ad5a0bbd40759',\n",
       " 'doc:docs:36cdbed78445453583350450ff39db6b',\n",
       " 'doc:docs:1b22c6e3ad9743cab5b577ffd079e439',\n",
       " 'doc:docs:842275befd6740fa8ea14607e3488f81',\n",
       " 'doc:docs:d4c3667aacde43a49e31effbd591732d',\n",
       " 'doc:docs:9a975f79f0f44136af80197de6399743',\n",
       " 'doc:docs:611b11a72bd54c0ea1d7d90607727da7',\n",
       " 'doc:docs:4a17a12fc5974104befb5ee2f7b47b27',\n",
       " 'doc:docs:251548752ac64be6a22d32454c017521',\n",
       " 'doc:docs:ceb90d4dd8c3495796a115585a6b5f4c',\n",
       " 'doc:docs:6bbc6265f46a4f0c90692d45953594e1',\n",
       " 'doc:docs:8d5ed0726f1e417ebbbebe77326fe1b6']"
      ]
     },
     "execution_count": 15,
     "metadata": {},
     "output_type": "execute_result"
    }
   ],
   "source": [
    "rds.add_documents(all_splits)"
   ]
  }
 ],
 "metadata": {
  "kernelspec": {
   "display_name": "Python 3.11",
   "language": "python",
   "name": "python3"
  },
  "language_info": {
   "codemirror_mode": {
    "name": "ipython",
    "version": 3
   },
   "file_extension": ".py",
   "mimetype": "text/x-python",
   "name": "python",
   "nbconvert_exporter": "python",
   "pygments_lexer": "ipython3",
   "version": "3.11.4"
  }
 },
 "nbformat": 4,
 "nbformat_minor": 5
}
