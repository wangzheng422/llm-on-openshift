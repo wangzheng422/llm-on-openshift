{
 "cells": [
  {
   "cell_type": "markdown",
   "id": "766aaa81-96e6-42dc-b29d-8216d2a7feec",
   "metadata": {},
   "source": [
    "## Basic example on how to query the Hugging Face Text Generation Inference server  with Llama2 using Langchain"
   ]
  },
  {
   "cell_type": "markdown",
   "id": "e65a9bb1-b06e-4569-b1cf-c7cdcd65b5d9",
   "metadata": {},
   "source": [
    "### Set the Inference server url (replace with your own address)"
   ]
  },
  {
   "cell_type": "code",
   "execution_count": 1,
   "id": "6b28afc8-7a57-4c81-a0de-3fdb6270830d",
   "metadata": {
    "tags": []
   },
   "outputs": [],
   "source": [
    "inference_server_url = \"http://hf-tgi.llm-hosting.svc.cluster.local:3000/\"\n",
    "\n",
    "\n",
    "inference_server_url = \"http://hf-text-generation-inference-server.llm-demo.svc.cluster.local:3000/\"\n"
   ]
  },
  {
   "cell_type": "code",
   "execution_count": 2,
   "id": "60bb3f0f-40b5-49a6-b493-5e361db0113e",
   "metadata": {
    "tags": []
   },
   "outputs": [],
   "source": [
    "# Imports\n",
    "from langchain.llms import HuggingFaceTextGenInference\n",
    "from langchain.callbacks.streaming_stdout import StreamingStdOutCallbackHandler"
   ]
  },
  {
   "cell_type": "markdown",
   "id": "472b2f3f-ac23-4531-984b-6e8357233992",
   "metadata": {},
   "source": [
    "### Basic call"
   ]
  },
  {
   "cell_type": "code",
   "execution_count": 3,
   "id": "01baa2b8-529d-455d-ad39-ef4a96dbaf97",
   "metadata": {
    "tags": []
   },
   "outputs": [],
   "source": [
    "# Basic llm object definition, no text streaming\n",
    "llm = HuggingFaceTextGenInference(\n",
    "    inference_server_url=inference_server_url,\n",
    "    max_new_tokens=512,\n",
    "    top_k=10,\n",
    "    top_p=0.95,\n",
    "    typical_p=0.95,\n",
    "    temperature=0.01,\n",
    "    repetition_penalty=1.03,\n",
    ")"
   ]
  },
  {
   "cell_type": "code",
   "execution_count": 4,
   "id": "82b6f271-f5ae-4ad1-b090-d0850ed0bee3",
   "metadata": {
    "tags": []
   },
   "outputs": [
    {
     "data": {
      "text/plain": [
       "\"\\n\\nParis, the City of Light, is a dream destination for many. The Eiffel Tower, the Louvre Museum, Notre-Dame Cathedral, and the Champs-Élysées are just a few of the iconic landmarks that make Paris so famous. The city's charming streets, cafes, and boutiques offer endless opportunities for exploration and indulgence. From the Latin Quarter to Montmartre, each neighborhood has its own unique character and charm.\""
      ]
     },
     "execution_count": 4,
     "metadata": {},
     "output_type": "execute_result"
    }
   ],
   "source": [
    "llm(\"Can you describe Paris in 100 words?\")"
   ]
  },
  {
   "cell_type": "markdown",
   "id": "d211bd1f-3e55-41ce-b3bc-0ee5db689c66",
   "metadata": {},
   "source": [
    "### Basic call with streaming answer"
   ]
  },
  {
   "cell_type": "code",
   "execution_count": 5,
   "id": "fdd8bc4c-b353-4a51-a8b7-6cb348e19623",
   "metadata": {
    "tags": []
   },
   "outputs": [],
   "source": [
    "llm_streaming = HuggingFaceTextGenInference(\n",
    "    inference_server_url=inference_server_url,\n",
    "    max_new_tokens=512,\n",
    "    top_k=10,\n",
    "    top_p=0.95,\n",
    "    typical_p=0.95,\n",
    "    temperature=0.01,\n",
    "    repetition_penalty=1.03,\n",
    "    streaming=True\n",
    ")"
   ]
  },
  {
   "cell_type": "code",
   "execution_count": 6,
   "id": "fb1a1c57-a645-4bb8-80c2-dec2f3800afa",
   "metadata": {
    "tags": []
   },
   "outputs": [
    {
     "name": "stdout",
     "output_type": "stream",
     "text": [
      "\n",
      "\n",
      "Paris, the capital of France, is a city of beauty and romance. The Eiffel Tower, the Louvre Museum, and the Notre Dame Cathedral are just a few of the iconic landmarks that make Paris one of the most popular tourist destinations in the world. The city's charming streets and alleys are lined with cafes, bakeries, and boutiques, offering visitors a taste of French culture and cuisine. The Seine River runs through the heart of the city, providing a picturesque backdrop for a boat ride or a stroll along its banks. In the evening, the city comes alive with twinkling lights and the sound of jazz music, creating an unforgettable experience for visitors."
     ]
    },
    {
     "data": {
      "text/plain": [
       "\"\\n\\nParis, the capital of France, is a city of beauty and romance. The Eiffel Tower, the Louvre Museum, and the Notre Dame Cathedral are just a few of the iconic landmarks that make Paris one of the most popular tourist destinations in the world. The city's charming streets and alleys are lined with cafes, bakeries, and boutiques, offering visitors a taste of French culture and cuisine. The Seine River runs through the heart of the city, providing a picturesque backdrop for a boat ride or a stroll along its banks. In the evening, the city comes alive with twinkling lights and the sound of jazz music, creating an unforgettable experience for visitors.\""
      ]
     },
     "execution_count": 6,
     "metadata": {},
     "output_type": "execute_result"
    }
   ],
   "source": [
    "llm_streaming(\"Can you describe Paris in 200 words?\", callbacks=[StreamingStdOutCallbackHandler()])"
   ]
  }
 ],
 "metadata": {
  "kernelspec": {
   "display_name": "Python 3.11",
   "language": "python",
   "name": "python3"
  },
  "language_info": {
   "codemirror_mode": {
    "name": "ipython",
    "version": 3
   },
   "file_extension": ".py",
   "mimetype": "text/x-python",
   "name": "python",
   "nbconvert_exporter": "python",
   "pygments_lexer": "ipython3",
   "version": "3.11.4"
  }
 },
 "nbformat": 4,
 "nbformat_minor": 5
}
