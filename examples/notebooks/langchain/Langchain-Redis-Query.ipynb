{
 "cells": [
  {
   "cell_type": "markdown",
   "id": "165a3407",
   "metadata": {},
   "source": [
    "## Querying a Redis index\n",
    "\n",
    "Simple example on how to query content from a Redis VectorStore.\n",
    "\n",
    "Requirements:\n",
    "- A Redis cluster and Database where documents have been injected\n",
    "- All information for connecting to the redis cluster and database, index name and schema file."
   ]
  },
  {
   "cell_type": "markdown",
   "id": "f0b8ecae",
   "metadata": {},
   "source": [
    "### Base parameters, the Redis info"
   ]
  },
  {
   "cell_type": "code",
   "execution_count": null,
   "id": "9376e567",
   "metadata": {},
   "outputs": [],
   "source": [
    "redis_url = \"redis://server:port\"\n",
    "index_name = \"docs\"\n",
    "schema_name = \"redis_schema.yaml\""
   ]
  },
  {
   "cell_type": "markdown",
   "id": "6e4572e1",
   "metadata": {},
   "source": [
    "### Imports"
   ]
  },
  {
   "cell_type": "code",
   "execution_count": null,
   "id": "83e11d23-c0ad-4875-b67f-149fc8b14725",
   "metadata": {
    "tags": []
   },
   "outputs": [],
   "source": [
    "from langchain.embeddings.huggingface import HuggingFaceEmbeddings\n",
    "from langchain.vectorstores.redis import Redis"
   ]
  },
  {
   "cell_type": "markdown",
   "id": "56d51868",
   "metadata": {},
   "source": [
    "### Initialize the connection"
   ]
  },
  {
   "cell_type": "code",
   "execution_count": null,
   "id": "bbb6a3e3-5ccd-441e-b80d-427555d9e9f6",
   "metadata": {
    "tags": []
   },
   "outputs": [],
   "source": [
    "embeddings = HuggingFaceEmbeddings()\n",
    "rds = Redis.from_existing_index(\n",
    "    embeddings,\n",
    "    redis_url=redis_url,\n",
    "    index_name=index_name,\n",
    "    schema=schema_name)"
   ]
  },
  {
   "cell_type": "markdown",
   "id": "9856851c",
   "metadata": {},
   "source": [
    "### Make a query to the index to verify sources"
   ]
  },
  {
   "cell_type": "code",
   "execution_count": null,
   "id": "9621e231-3541-40bc-85ef-8aa3b2ba2331",
   "metadata": {
    "tags": []
   },
   "outputs": [
    {
     "name": "stderr",
     "output_type": "stream",
     "text": [
      "Metadata key page not found in metadata. Setting to None. \n",
      "Metadata fields defined for this instance: ['source', 'page']\n",
      "Metadata key page not found in metadata. Setting to None. \n",
      "Metadata fields defined for this instance: ['source', 'page']\n",
      "Metadata key page not found in metadata. Setting to None. \n",
      "Metadata fields defined for this instance: ['source', 'page']\n"
     ]
    },
    {
     "name": "stdout",
     "output_type": "stream",
     "text": [
      "https://ai-on-openshift.io/odh-rhods/nvidia-gpus/\n",
      "https://ai-on-openshift.io/odh-rhods/nvidia-gpus/\n",
      "https://ai-on-openshift.io/odh-rhods/nvidia-gpus/\n",
      "pdf/red_hat_openshift_data_science_self-managed-1.32-working_on_data_science_projects-en-us.pdf\n"
     ]
    }
   ],
   "source": [
    "query=\"How do you work with taints?\"\n",
    "results =rds.similarity_search(query, k=4, return_metadata=True)\n",
    "for result in results:\n",
    "    print(result.metadata['source'])"
   ]
  },
  {
   "cell_type": "markdown",
   "id": "f1005e2c",
   "metadata": {},
   "source": [
    "### Work with a retriever"
   ]
  },
  {
   "cell_type": "code",
   "execution_count": null,
   "id": "566f9347-a40a-4eeb-a690-e199b91947a3",
   "metadata": {
    "tags": []
   },
   "outputs": [],
   "source": [
    "retriever = rds.as_retriever(search_type=\"similarity_distance_threshold\", search_kwargs={\"k\": 4, \"distance_threshold\": 2})"
   ]
  },
  {
   "cell_type": "code",
   "execution_count": null,
   "id": "1c378fbd-395d-43af-8cca-268bc05d0f51",
   "metadata": {
    "tags": []
   },
   "outputs": [
    {
     "name": "stderr",
     "output_type": "stream",
     "text": [
      "Metadata key page not found in metadata. Setting to None. \n",
      "Metadata fields defined for this instance: ['source', 'page']\n",
      "Metadata key page not found in metadata. Setting to None. \n",
      "Metadata fields defined for this instance: ['source', 'page']\n",
      "Metadata key page not found in metadata. Setting to None. \n",
      "Metadata fields defined for this instance: ['source', 'page']\n"
     ]
    },
    {
     "data": {
      "text/plain": [
       "[Document(page_content='Note\\nThe first taint that you want to apply on GPU nodes is nvidia.com/gpu. This is the standard taint for which the NVIDIA Operator has a built-in toleration, so no need to add it. Likewise, Notebooks, Workbenches or other components from ODH/RHODS that request GPUs will already have this toleration in place. For other Pods you schedule yourself, or using Pipelines, you should make sure the toleration is also applied. Doing this will ensure that only Pods really requiring GPUs are scheduled on those nodes.\\nYou can of course apply many different taints at the same time. You would simply have to apply the matching toleration on the NVIDIA GPU Operator, as well as on the Pods that need to run there.', metadata={'id': 'doc:docs:23b86d59144f4cd38612ae054cf92fd5', 'source': 'https://ai-on-openshift.io/odh-rhods/nvidia-gpus/', 'page': None}),\n",
       " Document(page_content='Advanced configuration\\nWorking with taints\\nIn many cases, you will want to restrict access to GPUs, or be able to provide choice between different types of GPUs: simply stating \"I want a GPU\" is not enough. Also, if you want to make sure that only the Pods requiring GPUs end up on GPU-enabled nodes (and not other Pods that just end up being there at random because that\\'s how Kubernetes works...), you\\'re at the right place!\\nThe only supported method at the moment to achieve this is to taint nodes, then apply tolerations on the Pods depending on where you want them scheduled. If you don\\'t pay close attention though when applying taints on Nodes, you may end up with the NVIDIA drivers not installed on those nodes...\\nIn this case you must:', metadata={'id': 'doc:docs:5c7baca533a44785babdc7336fcf303c', 'source': 'https://ai-on-openshift.io/odh-rhods/nvidia-gpus/', 'page': None}),\n",
       " Document(page_content='Apply the taints you need to your Nodes or MachineSets, for example:\\napiVersion: machine.openshift.io/v1beta1\\nkind: MachineSet\\nmetadata:\\n  ...\\nspec:\\n  replicas: 1\\n  selector:\\n    ...\\n  template:\\n    ...\\n    spec:\\n      ...\\n      taints:\\n        - key: restrictedaccess\\n          value: \"yes\"\\n          effect: NoSchedule\\n\\n\\n\\nApply the relevant toleration to the NVIDIA Operator.\\n\\n\\nIn the nvidia-gpu-operator namespace, get to the Installed Operator menu, open the NVIDIA GPU Operator settings, get to the ClusterPolicy tab, and edit the ClusterPolicy.', metadata={'id': 'doc:docs:c389f0bbfff140f2bda82e41c671a0b4', 'source': 'https://ai-on-openshift.io/odh-rhods/nvidia-gpus/', 'page': None}),\n",
       " Document(page_content='1\\n. \\nFrom the OpenShift Data Science dashboard, click \\nData Science Projects\\n.\\nThe \\nData science projects\\n page opens.\\n2\\n. \\nClick the action menu (\\n⋮\\n) beside the project that you want to delete and click \\nDelete project\\n.\\nThe \\nDelete project\\n dialog opens.\\n3\\n. \\nEnter the project name in the text field to confirm that you intend to delete it.\\n4\\n. \\nClick \\nDelete project\\n.\\nVerification\\nThe data science project that you deleted is no longer displayed on the \\nData science projects\\npage.\\nDeleting a data science project deletes any associated workbenches, cluster storage, and data\\nconnections. This data is permanently deleted and is not recoverable.\\n3.2. USING PROJECT WORKBENCHES\\n3.2.1. Creating a project workbench\\nTo examine and work with data models in an isolated area, you can create a workbench. This workbench\\nenables you to create a new Jupyter notebook from an existing notebook container image to access its\\nresources and properties. For data science projects that require data to be retained, you can add', metadata={'id': 'doc:docs:31cefb1df19642ffa0662c27293187f5', 'source': 'pdf/red_hat_openshift_data_science_self-managed-1.32-working_on_data_science_projects-en-us.pdf', 'page': '16'})]"
      ]
     },
     "execution_count": 19,
     "metadata": {},
     "output_type": "execute_result"
    }
   ],
   "source": [
    "docs = retriever.get_relevant_documents(query)\n",
    "docs"
   ]
  }
 ],
 "metadata": {
  "kernelspec": {
   "display_name": "Python 3.11",
   "language": "python",
   "name": "python3"
  },
  "language_info": {
   "codemirror_mode": {
    "name": "ipython",
    "version": 3
   },
   "file_extension": ".py",
   "mimetype": "text/x-python",
   "name": "python",
   "nbconvert_exporter": "python",
   "pygments_lexer": "ipython3",
   "version": "3.11.4"
  }
 },
 "nbformat": 4,
 "nbformat_minor": 5
}
